{
 "cells": [
  {
   "cell_type": "code",
   "execution_count": 1,
   "metadata": {},
   "outputs": [
    {
     "name": "stderr",
     "output_type": "stream",
     "text": [
      "c:\\Users\\Lenovo\\AppData\\Local\\Programs\\Python\\Python311\\Lib\\site-packages\\tqdm\\auto.py:21: TqdmWarning: IProgress not found. Please update jupyter and ipywidgets. See https://ipywidgets.readthedocs.io/en/stable/user_install.html\n",
      "  from .autonotebook import tqdm as notebook_tqdm\n",
      "Some weights of BertForSequenceClassification were not initialized from the model checkpoint at bert-base-uncased and are newly initialized: ['classifier.bias', 'classifier.weight']\n",
      "You should probably TRAIN this model on a down-stream task to be able to use it for predictions and inference.\n",
      "Epoch 1: 100%|██████████| 43/43 [01:16<00:00,  1.78s/it]\n"
     ]
    },
    {
     "name": "stdout",
     "output_type": "stream",
     "text": [
      "Epoch 1: Loss = 1.5708793734395228, Accuracy = 0.6179941002949852\n",
      "Validation Accuracy: 1.0\n"
     ]
    },
    {
     "name": "stderr",
     "output_type": "stream",
     "text": [
      "Epoch 2: 100%|██████████| 43/43 [01:13<00:00,  1.72s/it]\n"
     ]
    },
    {
     "name": "stdout",
     "output_type": "stream",
     "text": [
      "Epoch 2: Loss = 0.6766346672246623, Accuracy = 0.995575221238938\n",
      "Validation Accuracy: 1.0\n"
     ]
    },
    {
     "name": "stderr",
     "output_type": "stream",
     "text": [
      "Epoch 3: 100%|██████████| 43/43 [01:13<00:00,  1.72s/it]\n"
     ]
    },
    {
     "name": "stdout",
     "output_type": "stream",
     "text": [
      "Epoch 3: Loss = 0.2161720235680425, Accuracy = 1.0\n",
      "Validation Accuracy: 1.0\n"
     ]
    },
    {
     "name": "stderr",
     "output_type": "stream",
     "text": [
      "Epoch 4: 100%|██████████| 43/43 [01:16<00:00,  1.79s/it]\n"
     ]
    },
    {
     "name": "stdout",
     "output_type": "stream",
     "text": [
      "Epoch 4: Loss = 0.09072296884517338, Accuracy = 1.0\n",
      "Validation Accuracy: 1.0\n"
     ]
    },
    {
     "name": "stderr",
     "output_type": "stream",
     "text": [
      "Epoch 5: 100%|██████████| 43/43 [01:13<00:00,  1.72s/it]\n"
     ]
    },
    {
     "name": "stdout",
     "output_type": "stream",
     "text": [
      "Epoch 5: Loss = 0.05448558978563131, Accuracy = 1.0\n",
      "Validation Accuracy: 1.0\n"
     ]
    },
    {
     "name": "stderr",
     "output_type": "stream",
     "text": [
      "Epoch 6: 100%|██████████| 43/43 [01:17<00:00,  1.80s/it]\n"
     ]
    },
    {
     "name": "stdout",
     "output_type": "stream",
     "text": [
      "Epoch 6: Loss = 0.03731808759445368, Accuracy = 1.0\n",
      "Validation Accuracy: 1.0\n"
     ]
    },
    {
     "name": "stderr",
     "output_type": "stream",
     "text": [
      "Epoch 7: 100%|██████████| 43/43 [01:12<00:00,  1.69s/it]\n"
     ]
    },
    {
     "name": "stdout",
     "output_type": "stream",
     "text": [
      "Epoch 7: Loss = 0.028754531210938166, Accuracy = 1.0\n",
      "Validation Accuracy: 1.0\n"
     ]
    },
    {
     "name": "stderr",
     "output_type": "stream",
     "text": [
      "Epoch 8: 100%|██████████| 43/43 [01:18<00:00,  1.82s/it]\n"
     ]
    },
    {
     "name": "stdout",
     "output_type": "stream",
     "text": [
      "Epoch 8: Loss = 0.022468822076916695, Accuracy = 1.0\n",
      "Validation Accuracy: 1.0\n"
     ]
    },
    {
     "name": "stderr",
     "output_type": "stream",
     "text": [
      "Epoch 9: 100%|██████████| 43/43 [01:15<00:00,  1.77s/it]\n"
     ]
    },
    {
     "name": "stdout",
     "output_type": "stream",
     "text": [
      "Epoch 9: Loss = 0.018338827329666116, Accuracy = 1.0\n",
      "Validation Accuracy: 1.0\n"
     ]
    },
    {
     "name": "stderr",
     "output_type": "stream",
     "text": [
      "Epoch 10: 100%|██████████| 43/43 [01:18<00:00,  1.83s/it]\n"
     ]
    },
    {
     "name": "stdout",
     "output_type": "stream",
     "text": [
      "Epoch 10: Loss = 0.015591048895446368, Accuracy = 1.0\n",
      "Validation Accuracy: 1.0\n",
      "Accuracy: 1.0\n",
      "Classification Report:\n",
      "               precision    recall  f1-score   support\n",
      "\n",
      "           0       1.00      1.00      1.00        11\n",
      "           1       1.00      1.00      1.00        18\n",
      "           2       1.00      1.00      1.00        23\n",
      "           3       1.00      1.00      1.00        20\n",
      "           4       1.00      1.00      1.00        25\n",
      "           5       1.00      1.00      1.00        29\n",
      "           6       1.00      1.00      1.00        21\n",
      "           7       1.00      1.00      1.00        23\n",
      "\n",
      "    accuracy                           1.00       170\n",
      "   macro avg       1.00      1.00      1.00       170\n",
      "weighted avg       1.00      1.00      1.00       170\n",
      "\n"
     ]
    }
   ],
   "source": [
    "import torch\n",
    "from transformers import BertTokenizer, BertForSequenceClassification\n",
    "from sklearn.model_selection import train_test_split\n",
    "from sklearn.preprocessing import LabelEncoder\n",
    "from sklearn.metrics import accuracy_score, classification_report\n",
    "from torch.utils.data import DataLoader, TensorDataset\n",
    "from tqdm import tqdm\n",
    "import numpy as np\n",
    "\n",
    "# Step 1: Load the dataset\n",
    "import pandas as pd\n",
    "data = pd.read_csv('balanced_crime_dataset.csv')  # Adjust the file path if needed\n",
    "\n",
    "# Step 2: Preprocess text data\n",
    "data['cleaned_message'] = data['Message'].apply(lambda x: x.lower())  # Example preprocessing\n",
    "\n",
    "# Step 3: Encode labels\n",
    "label_encoder = LabelEncoder()\n",
    "y = label_encoder.fit_transform(data['Category'])\n",
    "X = data['cleaned_message']\n",
    "\n",
    "# Step 4: Split the data into training and testing sets\n",
    "X_train, X_test, y_train, y_test = train_test_split(X, y, test_size=0.2, random_state=42)\n",
    "\n",
    "# Step 5: Tokenize text using BERT tokenizer\n",
    "tokenizer = BertTokenizer.from_pretrained('bert-base-uncased')\n",
    "\n",
    "def tokenize_data(text_data):\n",
    "    return tokenizer(\n",
    "        text_data.tolist(),\n",
    "        padding=True,\n",
    "        truncation=True,\n",
    "        max_length=128,\n",
    "        return_tensors='pt'\n",
    "    )\n",
    "\n",
    "train_encodings = tokenize_data(X_train)\n",
    "test_encodings = tokenize_data(X_test)\n",
    "\n",
    "# Create Torch Datasets and DataLoaders\n",
    "train_dataset = TensorDataset(train_encodings['input_ids'], train_encodings['attention_mask'], torch.tensor(y_train, dtype=torch.long))\n",
    "test_dataset = TensorDataset(test_encodings['input_ids'], test_encodings['attention_mask'], torch.tensor(y_test, dtype=torch.long))\n",
    "\n",
    "train_loader = DataLoader(train_dataset, batch_size=16, shuffle=True)\n",
    "test_loader = DataLoader(test_dataset, batch_size=16)\n",
    "\n",
    "# Step 7: Load the BERT model\n",
    "model = BertForSequenceClassification.from_pretrained('bert-base-uncased', num_labels=len(label_encoder.classes_))\n",
    "\n",
    "# Step 8: Define optimizer and loss function\n",
    "optimizer = torch.optim.AdamW(model.parameters(), lr=2e-5)\n",
    "loss_fn = torch.nn.CrossEntropyLoss()\n",
    "\n",
    "# Step 9: Train the model\n",
    "device = torch.device(\"cuda\" if torch.cuda.is_available() else \"cpu\")\n",
    "model.to(device)\n",
    "\n",
    "for epoch in range(10):  # Train for 3 epochs (you can increase this)\n",
    "    model.train()\n",
    "    epoch_loss = 0\n",
    "    correct_preds = 0\n",
    "    total_preds = 0\n",
    "    \n",
    "    # Training Loop\n",
    "    for batch in tqdm(train_loader, desc=f\"Epoch {epoch+1}\"):\n",
    "        input_ids, attention_mask, labels = [b.to(device) for b in batch]\n",
    "        \n",
    "        optimizer.zero_grad()\n",
    "        \n",
    "        # Forward pass\n",
    "        outputs = model(input_ids, attention_mask=attention_mask, labels=labels)\n",
    "        loss = outputs.loss\n",
    "        logits = outputs.logits\n",
    "        \n",
    "        # Backward pass\n",
    "        loss.backward()\n",
    "        optimizer.step()\n",
    "        \n",
    "        epoch_loss += loss.item()\n",
    "        \n",
    "        # Calculate accuracy\n",
    "        _, preds = torch.max(logits, dim=1)\n",
    "        correct_preds += torch.sum(preds == labels).item()\n",
    "        total_preds += labels.size(0)\n",
    "    \n",
    "    print(f\"Epoch {epoch+1}: Loss = {epoch_loss/len(train_loader)}, Accuracy = {correct_preds/total_preds}\")\n",
    "\n",
    "    # Step 10: Evaluate the model on the testing data (Validation Accuracy)\n",
    "    model.eval()\n",
    "    val_correct_preds = 0\n",
    "    val_total_preds = 0\n",
    "    \n",
    "    with torch.no_grad():\n",
    "        for batch in test_loader:\n",
    "            input_ids, attention_mask, labels = [b.to(device) for b in batch]\n",
    "            outputs = model(input_ids, attention_mask=attention_mask)\n",
    "            logits = outputs.logits\n",
    "            \n",
    "            # Get predictions\n",
    "            _, preds = torch.max(logits, dim=1)\n",
    "            val_correct_preds += torch.sum(preds == labels).item()\n",
    "            val_total_preds += labels.size(0)\n",
    "    \n",
    "    val_accuracy = val_correct_preds / val_total_preds\n",
    "    print(f\"Validation Accuracy: {val_accuracy}\")\n",
    "\n",
    "# Step 11: Evaluate the model\n",
    "model.eval()\n",
    "all_preds = []\n",
    "all_labels = []\n",
    "\n",
    "with torch.no_grad():\n",
    "    for batch in test_loader:\n",
    "        input_ids, attention_mask, labels = [b.to(device) for b in batch]\n",
    "        outputs = model(input_ids, attention_mask=attention_mask)\n",
    "        logits = outputs.logits\n",
    "        _, preds = torch.max(logits, dim=1)\n",
    "        all_preds.extend(preds.cpu().numpy())\n",
    "        all_labels.extend(labels.cpu().numpy())\n",
    "\n",
    "# Convert predictions and labels to NumPy arrays for evaluation\n",
    "all_preds = np.array(all_preds)\n",
    "all_labels = np.array(all_labels)\n",
    "\n",
    "# Step 12: Output performance metrics\n",
    "print(\"Accuracy:\", accuracy_score(all_labels, all_preds))\n",
    "print(\"Classification Report:\\n\", classification_report(all_labels, all_preds))\n",
    "\n",
    "\n"
   ]
  },
  {
   "cell_type": "code",
   "execution_count": 2,
   "metadata": {},
   "outputs": [
    {
     "name": "stdout",
     "output_type": "stream",
     "text": [
      "Message: 'lets steal  credit cards ' => Predicted Label: Money Laundering\n",
      "Message: ' weapons  ' => Predicted Label: Human Trafficking\n",
      "Message: 'happy birthday ' => Predicted Label: Normal\n"
     ]
    }
   ],
   "source": [
    "# Step 13: Predict on new messages\n",
    "new_messages = [\"lets steal  credit cards \", \" weapons  \", \"happy birthday \"]\n",
    "new_messages_cleaned = [msg.lower() for msg in new_messages]\n",
    "new_messages_encodings = tokenizer(new_messages_cleaned, padding=True, truncation=True, max_length=128, return_tensors='pt')\n",
    "new_messages_input_ids = new_messages_encodings['input_ids'].to(device)\n",
    "new_messages_attention_mask = new_messages_encodings['attention_mask'].to(device)\n",
    "\n",
    "model.eval()\n",
    "with torch.no_grad():\n",
    "    outputs = model(new_messages_input_ids, attention_mask=new_messages_attention_mask)\n",
    "    logits = outputs.logits\n",
    "    _, predictions = torch.max(logits, dim=1)\n",
    "\n",
    "predicted_labels = label_encoder.inverse_transform(predictions.cpu().numpy())\n",
    "\n",
    "for msg, label in zip(new_messages, predicted_labels):\n",
    "    print(f\"Message: '{msg}' => Predicted Label: {label}\")"
   ]
  },
  {
   "cell_type": "code",
   "execution_count": 3,
   "metadata": {},
   "outputs": [],
   "source": [
    "import numpy as np\n",
    "from sklearn.preprocessing import LabelEncoder\n",
    "import torch\n",
    "from transformers import BertTokenizer, BertForSequenceClassification\n",
    "\n",
    "# Load the dataset\n",
    "import pandas as pd\n",
    "data = pd.read_csv('balanced_crime_dataset.csv')  # Adjust the file path if needed\n",
    "\n",
    "# Preprocess text data (cleaning)\n",
    "data['cleaned_message'] = data['Message'].apply(lambda x: x.lower())  # Example preprocessing\n",
    "\n",
    "# Encode labels\n",
    "label_encoder = LabelEncoder()\n",
    "y = label_encoder.fit_transform(data['Category'])  # Fit the encoder again on the original labels\n",
    "\n",
    "# Save the classes for later use (to map predictions back to the original labels)\n",
    "np.save('classes.npy', label_encoder.classes_)"
   ]
  },
  {
   "cell_type": "code",
   "execution_count": 4,
   "metadata": {},
   "outputs": [
    {
     "name": "stderr",
     "output_type": "stream",
     "text": [
      "Some weights of BertForSequenceClassification were not initialized from the model checkpoint at bert-base-uncased and are newly initialized: ['classifier.bias', 'classifier.weight']\n",
      "You should probably TRAIN this model on a down-stream task to be able to use it for predictions and inference.\n"
     ]
    },
    {
     "name": "stdout",
     "output_type": "stream",
     "text": [
      "Message: 'Let's trade illegal weapons for money' => Predicted Label: Illegal Weapons Trade\n",
      "Message: 'You are a stupid idiot' => Predicted Label: Illegal Weapons Trade\n",
      "Message: 'I'll report this incident to the authorities' => Predicted Label: Illegal Weapons Trade\n",
      "Message: 'Making threats to harm others over social media' => Predicted Label: Illegal Weapons Trade\n",
      "Message: 'I am selling drugs, contact me at xxx-xxx-xxxx' => Predicted Label: Illegal Weapons Trade\n"
     ]
    }
   ],
   "source": [
    "import torch\n",
    "from transformers import BertTokenizer, BertForSequenceClassification\n",
    "import numpy as np\n",
    "import pandas as pd\n",
    "from sklearn.preprocessing import LabelEncoder\n",
    "\n",
    "# Load the trained model and tokenizer\n",
    "tokenizer = BertTokenizer.from_pretrained('bert-base-uncased')\n",
    "model = BertForSequenceClassification.from_pretrained('bert-base-uncased', num_labels=8)  # Adjust num_labels based on your dataset\n",
    "\n",
    "# Load the LabelEncoder to map back predictions to the original categories\n",
    "label_encoder = LabelEncoder()\n",
    "# Load the classes array with allow_pickle=True\n",
    "label_encoder.classes_ = np.load('classes.npy', allow_pickle=True)  # Assuming you saved this previously, if not adjust accordingly\n",
    "\n",
    "# Create unseen data for testing\n",
    "new_messages = [\n",
    "    \"Let's trade illegal weapons for money\",  # Expected to be classified as Illegal Weapons Trade\n",
    "    \"You are a stupid idiot\",  # Expected to be classified as Insult\n",
    "    \"I'll report this incident to the authorities\",  # Expected to be classified as Legal/Normal\n",
    "    \"Making threats to harm others over social media\",  # Expected to be classified as Harassment/Threats\n",
    "    \"I am selling drugs, contact me at xxx-xxx-xxxx\",  # Expected to be classified as Drug Trade\n",
    "]\n",
    "\n",
    "# Step 1: Preprocess and Tokenize the unseen messages\n",
    "new_messages_cleaned = [msg.lower() for msg in new_messages]  # Example preprocessing\n",
    "new_messages_encodings = tokenizer(new_messages_cleaned, padding=True, truncation=True, max_length=128, return_tensors='pt')\n",
    "\n",
    "# Step 2: Prepare the input for the model (move tensors to device)\n",
    "device = torch.device(\"cuda\" if torch.cuda.is_available() else \"cpu\")\n",
    "model.to(device)\n",
    "new_messages_input_ids = new_messages_encodings['input_ids'].to(device)\n",
    "new_messages_attention_mask = new_messages_encodings['attention_mask'].to(device)\n",
    "\n",
    "# Step 3: Predict labels for the new data\n",
    "model.eval()  # Set the model to evaluation mode\n",
    "with torch.no_grad():\n",
    "    outputs = model(new_messages_input_ids, attention_mask=new_messages_attention_mask)\n",
    "    logits = outputs.logits\n",
    "    _, predictions = torch.max(logits, dim=1)\n",
    "\n",
    "# Step 4: Convert predictions to original labels\n",
    "predicted_labels = label_encoder.inverse_transform(predictions.cpu().numpy())\n",
    "\n",
    "# Print out the messages with their predicted labels\n",
    "for msg, label in zip(new_messages, predicted_labels):\n",
    "    print(f\"Message: '{msg}' => Predicted Label: {label}\")\n"
   ]
  }
 ],
 "metadata": {
  "kernelspec": {
   "display_name": "Python 3",
   "language": "python",
   "name": "python3"
  },
  "language_info": {
   "codemirror_mode": {
    "name": "ipython",
    "version": 3
   },
   "file_extension": ".py",
   "mimetype": "text/x-python",
   "name": "python",
   "nbconvert_exporter": "python",
   "pygments_lexer": "ipython3",
   "version": "3.11.4"
  }
 },
 "nbformat": 4,
 "nbformat_minor": 2
}
